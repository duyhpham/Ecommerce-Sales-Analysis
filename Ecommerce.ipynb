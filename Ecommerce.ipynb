{
  "nbformat": 4,
  "nbformat_minor": 0,
  "metadata": {
    "colab": {
      "provenance": [],
      "machine_shape": "hm",
      "collapsed_sections": []
    },
    "kernelspec": {
      "name": "python3",
      "display_name": "Python 3"
    },
    "language_info": {
      "name": "python"
    }
  },
  "cells": [
    {
      "cell_type": "code",
      "execution_count": 1,
      "metadata": {
        "id": "RtiDAA4xNCT1"
      },
      "outputs": [],
      "source": [
        "!pip install -q kaggle"
      ]
    },
    {
      "cell_type": "markdown",
      "source": [
        "# New Section"
      ],
      "metadata": {
        "id": "6mcgEUquTHj_"
      }
    },
    {
      "cell_type": "code",
      "source": [
        "from google.colab import files\n",
        "files.upload()"
      ],
      "metadata": {
        "colab": {
          "base_uri": "https://localhost:8080/",
          "height": 90
        },
        "id": "9XwTvIb5NMcK",
        "outputId": "585b4fa1-5bbc-4cd7-af6d-ad277c8e6271"
      },
      "execution_count": 2,
      "outputs": [
        {
          "output_type": "display_data",
          "data": {
            "text/plain": [
              "<IPython.core.display.HTML object>"
            ],
            "text/html": [
              "\n",
              "     <input type=\"file\" id=\"files-d4cdd61f-f918-4b93-be74-b5b4b0dbc3b3\" name=\"files[]\" multiple disabled\n",
              "        style=\"border:none\" />\n",
              "     <output id=\"result-d4cdd61f-f918-4b93-be74-b5b4b0dbc3b3\">\n",
              "      Upload widget is only available when the cell has been executed in the\n",
              "      current browser session. Please rerun this cell to enable.\n",
              "      </output>\n",
              "      <script>// Copyright 2017 Google LLC\n",
              "//\n",
              "// Licensed under the Apache License, Version 2.0 (the \"License\");\n",
              "// you may not use this file except in compliance with the License.\n",
              "// You may obtain a copy of the License at\n",
              "//\n",
              "//      http://www.apache.org/licenses/LICENSE-2.0\n",
              "//\n",
              "// Unless required by applicable law or agreed to in writing, software\n",
              "// distributed under the License is distributed on an \"AS IS\" BASIS,\n",
              "// WITHOUT WARRANTIES OR CONDITIONS OF ANY KIND, either express or implied.\n",
              "// See the License for the specific language governing permissions and\n",
              "// limitations under the License.\n",
              "\n",
              "/**\n",
              " * @fileoverview Helpers for google.colab Python module.\n",
              " */\n",
              "(function(scope) {\n",
              "function span(text, styleAttributes = {}) {\n",
              "  const element = document.createElement('span');\n",
              "  element.textContent = text;\n",
              "  for (const key of Object.keys(styleAttributes)) {\n",
              "    element.style[key] = styleAttributes[key];\n",
              "  }\n",
              "  return element;\n",
              "}\n",
              "\n",
              "// Max number of bytes which will be uploaded at a time.\n",
              "const MAX_PAYLOAD_SIZE = 100 * 1024;\n",
              "\n",
              "function _uploadFiles(inputId, outputId) {\n",
              "  const steps = uploadFilesStep(inputId, outputId);\n",
              "  const outputElement = document.getElementById(outputId);\n",
              "  // Cache steps on the outputElement to make it available for the next call\n",
              "  // to uploadFilesContinue from Python.\n",
              "  outputElement.steps = steps;\n",
              "\n",
              "  return _uploadFilesContinue(outputId);\n",
              "}\n",
              "\n",
              "// This is roughly an async generator (not supported in the browser yet),\n",
              "// where there are multiple asynchronous steps and the Python side is going\n",
              "// to poll for completion of each step.\n",
              "// This uses a Promise to block the python side on completion of each step,\n",
              "// then passes the result of the previous step as the input to the next step.\n",
              "function _uploadFilesContinue(outputId) {\n",
              "  const outputElement = document.getElementById(outputId);\n",
              "  const steps = outputElement.steps;\n",
              "\n",
              "  const next = steps.next(outputElement.lastPromiseValue);\n",
              "  return Promise.resolve(next.value.promise).then((value) => {\n",
              "    // Cache the last promise value to make it available to the next\n",
              "    // step of the generator.\n",
              "    outputElement.lastPromiseValue = value;\n",
              "    return next.value.response;\n",
              "  });\n",
              "}\n",
              "\n",
              "/**\n",
              " * Generator function which is called between each async step of the upload\n",
              " * process.\n",
              " * @param {string} inputId Element ID of the input file picker element.\n",
              " * @param {string} outputId Element ID of the output display.\n",
              " * @return {!Iterable<!Object>} Iterable of next steps.\n",
              " */\n",
              "function* uploadFilesStep(inputId, outputId) {\n",
              "  const inputElement = document.getElementById(inputId);\n",
              "  inputElement.disabled = false;\n",
              "\n",
              "  const outputElement = document.getElementById(outputId);\n",
              "  outputElement.innerHTML = '';\n",
              "\n",
              "  const pickedPromise = new Promise((resolve) => {\n",
              "    inputElement.addEventListener('change', (e) => {\n",
              "      resolve(e.target.files);\n",
              "    });\n",
              "  });\n",
              "\n",
              "  const cancel = document.createElement('button');\n",
              "  inputElement.parentElement.appendChild(cancel);\n",
              "  cancel.textContent = 'Cancel upload';\n",
              "  const cancelPromise = new Promise((resolve) => {\n",
              "    cancel.onclick = () => {\n",
              "      resolve(null);\n",
              "    };\n",
              "  });\n",
              "\n",
              "  // Wait for the user to pick the files.\n",
              "  const files = yield {\n",
              "    promise: Promise.race([pickedPromise, cancelPromise]),\n",
              "    response: {\n",
              "      action: 'starting',\n",
              "    }\n",
              "  };\n",
              "\n",
              "  cancel.remove();\n",
              "\n",
              "  // Disable the input element since further picks are not allowed.\n",
              "  inputElement.disabled = true;\n",
              "\n",
              "  if (!files) {\n",
              "    return {\n",
              "      response: {\n",
              "        action: 'complete',\n",
              "      }\n",
              "    };\n",
              "  }\n",
              "\n",
              "  for (const file of files) {\n",
              "    const li = document.createElement('li');\n",
              "    li.append(span(file.name, {fontWeight: 'bold'}));\n",
              "    li.append(span(\n",
              "        `(${file.type || 'n/a'}) - ${file.size} bytes, ` +\n",
              "        `last modified: ${\n",
              "            file.lastModifiedDate ? file.lastModifiedDate.toLocaleDateString() :\n",
              "                                    'n/a'} - `));\n",
              "    const percent = span('0% done');\n",
              "    li.appendChild(percent);\n",
              "\n",
              "    outputElement.appendChild(li);\n",
              "\n",
              "    const fileDataPromise = new Promise((resolve) => {\n",
              "      const reader = new FileReader();\n",
              "      reader.onload = (e) => {\n",
              "        resolve(e.target.result);\n",
              "      };\n",
              "      reader.readAsArrayBuffer(file);\n",
              "    });\n",
              "    // Wait for the data to be ready.\n",
              "    let fileData = yield {\n",
              "      promise: fileDataPromise,\n",
              "      response: {\n",
              "        action: 'continue',\n",
              "      }\n",
              "    };\n",
              "\n",
              "    // Use a chunked sending to avoid message size limits. See b/62115660.\n",
              "    let position = 0;\n",
              "    do {\n",
              "      const length = Math.min(fileData.byteLength - position, MAX_PAYLOAD_SIZE);\n",
              "      const chunk = new Uint8Array(fileData, position, length);\n",
              "      position += length;\n",
              "\n",
              "      const base64 = btoa(String.fromCharCode.apply(null, chunk));\n",
              "      yield {\n",
              "        response: {\n",
              "          action: 'append',\n",
              "          file: file.name,\n",
              "          data: base64,\n",
              "        },\n",
              "      };\n",
              "\n",
              "      let percentDone = fileData.byteLength === 0 ?\n",
              "          100 :\n",
              "          Math.round((position / fileData.byteLength) * 100);\n",
              "      percent.textContent = `${percentDone}% done`;\n",
              "\n",
              "    } while (position < fileData.byteLength);\n",
              "  }\n",
              "\n",
              "  // All done.\n",
              "  yield {\n",
              "    response: {\n",
              "      action: 'complete',\n",
              "    }\n",
              "  };\n",
              "}\n",
              "\n",
              "scope.google = scope.google || {};\n",
              "scope.google.colab = scope.google.colab || {};\n",
              "scope.google.colab._files = {\n",
              "  _uploadFiles,\n",
              "  _uploadFilesContinue,\n",
              "};\n",
              "})(self);\n",
              "</script> "
            ]
          },
          "metadata": {}
        },
        {
          "output_type": "stream",
          "name": "stdout",
          "text": [
            "Saving kaggle.json to kaggle.json\n"
          ]
        },
        {
          "output_type": "execute_result",
          "data": {
            "text/plain": [
              "{'kaggle.json': b'{\"username\":\"jackduypham\",\"key\":\"b99d52fb163df26b3eadd8008636d5b0\"}'}"
            ]
          },
          "metadata": {},
          "execution_count": 2
        }
      ]
    },
    {
      "cell_type": "code",
      "source": [
        "print(ecommerce.shape)"
      ],
      "metadata": {
        "colab": {
          "base_uri": "https://localhost:8080/"
        },
        "id": "BOfiD0WArEDq",
        "outputId": "11cde203-31ee-42f3-e734-6bd3dabc3d5f"
      },
      "execution_count": 17,
      "outputs": [
        {
          "output_type": "stream",
          "name": "stdout",
          "text": [
            "(67501979, 9)\n"
          ]
        }
      ]
    },
    {
      "cell_type": "code",
      "source": [
        "! mkdir ~/.kaggle"
      ],
      "metadata": {
        "id": "gmvLysyVNMhB"
      },
      "execution_count": 3,
      "outputs": []
    },
    {
      "cell_type": "code",
      "source": [
        "! cp kaggle.json ~/.kaggle/"
      ],
      "metadata": {
        "id": "MGbSIKsPNccc"
      },
      "execution_count": 4,
      "outputs": []
    },
    {
      "cell_type": "code",
      "source": [
        "! chmod 600 ~/.kaggle/kaggle.json"
      ],
      "metadata": {
        "id": "CTr1gnSDNcg0"
      },
      "execution_count": 5,
      "outputs": []
    },
    {
      "cell_type": "code",
      "source": [
        "! kaggle datasets list"
      ],
      "metadata": {
        "colab": {
          "base_uri": "https://localhost:8080/"
        },
        "id": "zNOpvFknNupu",
        "outputId": "46d3dd97-4f42-43a8-e3e3-a04947f1f15a"
      },
      "execution_count": 6,
      "outputs": [
        {
          "output_type": "stream",
          "name": "stdout",
          "text": [
            "ref                                                            title                                                size  lastUpdated          downloadCount  voteCount  usabilityRating  \n",
            "-------------------------------------------------------------  --------------------------------------------------  -----  -------------------  -------------  ---------  ---------------  \n",
            "iamsouravbanerjee/world-population-dataset                     World Population Dataset                             17KB  2022-08-31 11:20:04           9673        285  1.0              \n",
            "thedevastator/mcdonalds-ice-cream-machines-broken-timeseries   McDonalds Ice Cream Machines Breaking - Timeseries  404KB  2022-09-14 23:51:09            901         36  1.0              \n",
            "pantanjali/unemployment-dataset                                Unemployment dataset                                 17KB  2022-09-08 08:26:10           2421         69  1.0              \n",
            "evangower/premier-league-match-data                            Premier League Match Data                             8KB  2022-09-14 18:40:58            574         39  1.0              \n",
            "ariyoomotade/netflix-data-cleaning-analysis-and-visualization  Netflix Data: Cleaning, Analysis and Visualization  270KB  2022-08-26 09:25:43           4847        113  1.0              \n",
            "whenamancodes/world-population-live-dataset                    World Population Live Dataset 2022                   10KB  2022-09-10 11:29:21           1120         39  1.0              \n",
            "iamsouravbanerjee/house-rent-prediction-dataset                House Rent Prediction Dataset                        82KB  2022-08-20 13:49:03          14090        343  1.0              \n",
            "deepcontractor/smoke-detection-dataset                         Smoke Detection Dataset                               2MB  2022-08-21 06:29:34           3051         93  1.0              \n",
            "moazzimalibhatti/co2-emission-by-countries-year-wise-17502022  CO2 Emission by countries Year wise (1750-2022)     280KB  2022-09-14 07:43:00            699         44  1.0              \n",
            "wittmannf/top-250-imdb-series-episode-ratings                  Top 250 IMDB Series Episode Ratings in Sept 2022     92KB  2022-09-05 18:44:55            628         25  1.0              \n",
            "advaypatil/youtube-statistics                                  Youtube Statistics                                    2MB  2022-08-26 02:03:19           2022         61  1.0              \n",
            "muhammadadiltalay/imdb-video-games                             IMDB Video Games                                      1MB  2022-09-02 07:15:52           1152         37  0.9705882        \n",
            "kaggleashwin/population-dataset                                World Population by Countries Dataset (1960-2021)    69KB  2022-08-31 05:30:26           1829         78  1.0              \n",
            "csafrit2/latest-global-temperatures                            Latest Global Temperatures                           92KB  2022-09-05 01:10:12            761         28  1.0              \n",
            "surajjha101/fortune-top-1000-companies-by-revenue-2022         Fortune Top 1000 Companies by Revenue 2022           37KB  2022-08-28 06:43:27           1504         56  1.0              \n",
            "totoro29/air-pollution-level                                   Air Pollution Level                                 394KB  2022-09-09 04:36:03           1087         30  1.0              \n",
            "whenamancodes/data-science-fields-salary-categorization        Data Science Fields Salary Categorization             7KB  2022-09-10 07:53:45            610         29  1.0              \n",
            "fernandoretamales/health-expenditure-and-suicide-rates         Health Expenditure and Suicide Rates [2000-2019]     45KB  2022-09-06 17:37:21            530         27  1.0              \n",
            "sergylog/ab-test-data                                          A/B test data                                        28KB  2022-09-16 17:29:06            212         63  1.0              \n",
            "tmishinev/world-country-gdp-19602021                           World, Region, Country GDP/GDP per capita           229KB  2022-09-09 06:54:38            612         27  1.0              \n"
          ]
        }
      ]
    },
    {
      "cell_type": "code",
      "source": [
        "!kaggle datasets download -d mkechinov/ecommerce-behavior-data-from-multi-category-store"
      ],
      "metadata": {
        "colab": {
          "base_uri": "https://localhost:8080/"
        },
        "id": "zzfFqNemN7Zd",
        "outputId": "272c8dc5-972f-4ce6-ae70-b8ed921f1e0d"
      },
      "execution_count": 7,
      "outputs": [
        {
          "output_type": "stream",
          "name": "stdout",
          "text": [
            "Downloading ecommerce-behavior-data-from-multi-category-store.zip to /content\n",
            "100% 4.28G/4.29G [00:52<00:00, 135MB/s]\n",
            "100% 4.29G/4.29G [00:52<00:00, 87.6MB/s]\n"
          ]
        }
      ]
    },
    {
      "cell_type": "code",
      "source": [
        "!unzip ecommerce-behavior-data-from-multi-category-store.zip"
      ],
      "metadata": {
        "colab": {
          "base_uri": "https://localhost:8080/"
        },
        "id": "jeZJaPuVOT4c",
        "outputId": "a323fc29-c430-4067-f8d0-a5084e684b0a"
      },
      "execution_count": 8,
      "outputs": [
        {
          "output_type": "stream",
          "name": "stdout",
          "text": [
            "Archive:  ecommerce-behavior-data-from-multi-category-store.zip\n",
            "  inflating: 2019-Nov.csv            \n",
            "  inflating: 2019-Oct.csv            \n"
          ]
        }
      ]
    },
    {
      "cell_type": "code",
      "source": [
        "import pandas as pd\n",
        "ecommerce = pd.read_csv('2019-Nov.csv')\n",
        "print(ecommerce.head())\n",
        "print(ecommerce.info())"
      ],
      "metadata": {
        "colab": {
          "base_uri": "https://localhost:8080/"
        },
        "id": "wjGDpGSPPK25",
        "outputId": "804e8323-3e98-4a35-9ce5-82a95511a301"
      },
      "execution_count": 9,
      "outputs": [
        {
          "output_type": "stream",
          "name": "stdout",
          "text": [
            "                event_time event_type  product_id          category_id  \\\n",
            "0  2019-11-01 00:00:00 UTC       view     1003461  2053013555631882655   \n",
            "1  2019-11-01 00:00:00 UTC       view     5000088  2053013566100866035   \n",
            "2  2019-11-01 00:00:01 UTC       view    17302664  2053013553853497655   \n",
            "3  2019-11-01 00:00:01 UTC       view     3601530  2053013563810775923   \n",
            "4  2019-11-01 00:00:01 UTC       view     1004775  2053013555631882655   \n",
            "\n",
            "               category_code   brand   price    user_id  \\\n",
            "0     electronics.smartphone  xiaomi  489.07  520088904   \n",
            "1  appliances.sewing_machine  janome  293.65  530496790   \n",
            "2                        NaN   creed   28.31  561587266   \n",
            "3  appliances.kitchen.washer      lg  712.87  518085591   \n",
            "4     electronics.smartphone  xiaomi  183.27  558856683   \n",
            "\n",
            "                           user_session  \n",
            "0  4d3b30da-a5e4-49df-b1a8-ba5943f1dd33  \n",
            "1  8e5f4f83-366c-4f70-860e-ca7417414283  \n",
            "2  755422e7-9040-477b-9bd2-6a6e8fd97387  \n",
            "3  3bfb58cd-7892-48cc-8020-2f17e6de6e7f  \n",
            "4  313628f1-68b8-460d-84f6-cec7a8796ef2  \n",
            "<class 'pandas.core.frame.DataFrame'>\n",
            "RangeIndex: 67501979 entries, 0 to 67501978\n",
            "Data columns (total 9 columns):\n",
            " #   Column         Dtype  \n",
            "---  ------         -----  \n",
            " 0   event_time     object \n",
            " 1   event_type     object \n",
            " 2   product_id     int64  \n",
            " 3   category_id    int64  \n",
            " 4   category_code  object \n",
            " 5   brand          object \n",
            " 6   price          float64\n",
            " 7   user_id        int64  \n",
            " 8   user_session   object \n",
            "dtypes: float64(1), int64(3), object(5)\n",
            "memory usage: 4.5+ GB\n",
            "None\n"
          ]
        }
      ]
    },
    {
      "cell_type": "code",
      "source": [
        "i = dict(ecommerce['brand'].value_counts())\n",
        "most_popular = list(i.keys())\n",
        "most_popular.pop(9)\n",
        "most_popular.pop(11)\n",
        "most_popular = most_popular[0:13]\n",
        "print(most_popular)"
      ],
      "metadata": {
        "colab": {
          "base_uri": "https://localhost:8080/"
        },
        "id": "jfhCcKFPZcRc",
        "outputId": "291a769d-6d3b-4011-e1ca-5899bfb75c13"
      },
      "execution_count": 77,
      "outputs": [
        {
          "output_type": "stream",
          "name": "stdout",
          "text": [
            "['samsung', 'apple', 'xiaomi', 'huawei', 'lucente', 'lg', 'bosch', 'oppo', 'sony', 'lenovo', 'acer', 'artel', 'hp']\n"
          ]
        }
      ]
    },
    {
      "cell_type": "code",
      "source": [
        "from numpy import mean\n",
        "def getdata(brand):\n",
        "    newtable = ecommerce[ecommerce['brand'] == brand]\n",
        "\n",
        "    less_200 = newtable[newtable['price'] < 200]['event_type'].value_counts(normalize=True)\n",
        "    conversion_200 = (list(less_200)[2])*100\n",
        "\n",
        "    less_500 = newtable[newtable['price'] < 500]['event_type'].value_counts(normalize=True)\n",
        "    conversion_500 = (list(less_500)[2])*100\n",
        "\n",
        "    over_500 = newtable[newtable['price'] > 500]['event_type'].value_counts(normalize=True)\n",
        "    conversion_ov500 = (list(over_500)[2])*100\n",
        "\n",
        "    avg_price = newtable['price'].mean()\n",
        "       \n",
        "    total_customer = len(newtable.index)\n",
        "\n",
        "    return [brand,conversion_500,conversion_500,conversion_ov500,avg_price,total_customer]\n",
        "print(getdata('samsung'))\n"
      ],
      "metadata": {
        "colab": {
          "base_uri": "https://localhost:8080/"
        },
        "id": "lMgFosvIX1jg",
        "outputId": "d50c7ca5-0a28-44b5-a381-30d57343517a"
      },
      "execution_count": 66,
      "outputs": [
        {
          "output_type": "stream",
          "name": "stdout",
          "text": [
            "['samsung', 2.8455553866798646, 2.8455553866798646, 1.4320552277497602, 356.1164579741155, 7889245]\n"
          ]
        }
      ]
    },
    {
      "cell_type": "code",
      "source": [
        "data = [getdata(i) for i in most_popular[0:13]]\n",
        "print(data)"
      ],
      "metadata": {
        "colab": {
          "base_uri": "https://localhost:8080/"
        },
        "id": "2GBCbb2VZ-DD",
        "outputId": "32b939a1-f08a-4661-f7fd-f989bdd62947"
      },
      "execution_count": 80,
      "outputs": [
        {
          "output_type": "stream",
          "name": "stdout",
          "text": [
            "[['samsung', 2.8455553866798646, 2.8455553866798646, 1.4320552277497602, 356.1164579741155, 7889245], ['apple', 3.1408615972952183, 3.1408615972952183, 2.461220683192624, 826.2084054216878, 6259379], ['xiaomi', 1.5044617637735596, 1.5044617637735596, 0.27205016339598226, 203.7564489500138, 4638062], ['huawei', 1.858407368909634, 1.858407368909634, 0.5155856000858415, 263.9678170957774, 1410126], ['lucente', 1.2147448654130297, 1.2147448654130297, 1.407851342246179, 241.69732541822253, 1185075], ['lg', 1.3079196066943475, 1.3079196066943475, 0.836940836940837, 470.5084051449875, 1096990], ['bosch', 0.8680239901650437, 0.8680239901650437, 0.5541258509048648, 276.74781066581596, 975059], ['oppo', 2.055886810089651, 2.055886810089651, 0.5339493316166167, 300.0524999938401, 811698], ['sony', 1.4701473162315855, 1.4701473162315855, 0.7605166747748732, 441.8560924508146, 798457], ['lenovo', 1.206701721777729, 1.206701721777729, 0.48443870198924255, 560.23017345578, 727390], ['acer', 1.1349733268927682, 1.1349733268927682, 0.7663287244466809, 627.9519978082224, 698976], ['artel', 1.3901854653649295, 1.3901854653649295, 1.660795168595873, 177.4697217141541, 664281], ['hp', 1.0372392870686384, 1.0372392870686384, 0.3698977531538225, 493.2573493068816, 515352]]\n"
          ]
        }
      ]
    },
    {
      "cell_type": "code",
      "source": [
        "import pandas as pd\n",
        "final_data = pd.DataFrame(data)\n",
        "final_data.columns = ['brand','cvrate_<200','cvrate_<500','cvrate_>500','avg_price','total']\n",
        "print(final_data)\n"
      ],
      "metadata": {
        "colab": {
          "base_uri": "https://localhost:8080/"
        },
        "id": "kzI7bWSZetmN",
        "outputId": "e6a6d9fb-2e15-4b9c-f7ec-0732e8320e88"
      },
      "execution_count": 76,
      "outputs": [
        {
          "output_type": "stream",
          "name": "stdout",
          "text": [
            "      brand  cvrate_<200  cvrate_<500  cvrate_>500   avg_price    total\n",
            "0   samsung     2.845555     2.845555     1.432055  356.116458  7889245\n",
            "1     apple     3.140862     3.140862     2.461221  826.208405  6259379\n",
            "2    xiaomi     1.504462     1.504462     0.272050  203.756449  4638062\n",
            "3    huawei     1.858407     1.858407     0.515586  263.967817  1410126\n",
            "4   lucente     1.214745     1.214745     1.407851  241.697325  1185075\n",
            "5        lg     1.307920     1.307920     0.836941  470.508405  1096990\n",
            "6     bosch     0.868024     0.868024     0.554126  276.747811   975059\n",
            "7      oppo     2.055887     2.055887     0.533949  300.052500   811698\n",
            "8      sony     1.470147     1.470147     0.760517  441.856092   798457\n",
            "9    lenovo     1.206702     1.206702     0.484439  560.230173   727390\n",
            "10     acer     1.134973     1.134973     0.766329  627.951998   698976\n",
            "11    artel     1.390185     1.390185     1.660795  177.469722   664281\n",
            "12       hp     1.037239     1.037239     0.369898  493.257349   515352\n"
          ]
        }
      ]
    },
    {
      "cell_type": "code",
      "source": [
        "final_data.to_csv('ecommerce.csv')"
      ],
      "metadata": {
        "id": "exZLiak9kJC2"
      },
      "execution_count": 79,
      "outputs": []
    }
  ]
}